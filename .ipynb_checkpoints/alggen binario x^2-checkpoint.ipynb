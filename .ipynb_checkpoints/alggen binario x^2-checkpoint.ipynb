{
 "cells": [
  {
   "cell_type": "code",
   "execution_count": 1,
   "id": "796d6544",
   "metadata": {},
   "outputs": [],
   "source": [
    "import numpy as np\n",
    "import matplotlib.pyplot as plt\n",
    "import math\n",
    "import random"
   ]
  },
  {
   "cell_type": "code",
   "execution_count": 2,
   "id": "07661959",
   "metadata": {},
   "outputs": [],
   "source": [
    "xmin = -10\n",
    "xmax = 10\n",
    "dim = 10\n",
    "pres = 3\n",
    "longitud = int(math.log2( (xmax-xmin)*(10**pres) )+0.9)\n",
    "prob_mut = 0.04\n",
    "pobsize = 500\n",
    "num_padres = pobsize\n",
    "num_generaciones = 1500\n",
    "dim_disc = dim * longitud"
   ]
  },
  {
   "cell_type": "code",
   "execution_count": 3,
   "id": "cedd708a",
   "metadata": {},
   "outputs": [
    {
     "data": {
      "text/plain": [
       "15"
      ]
     },
     "execution_count": 3,
     "metadata": {},
     "output_type": "execute_result"
    }
   ],
   "source": [
    "longitud"
   ]
  },
  {
   "cell_type": "code",
   "execution_count": 4,
   "id": "a894ccc2",
   "metadata": {},
   "outputs": [],
   "source": [
    "def bin2dec(bin_str):\n",
    "    return int(''.join(str(x) for x in bin_str), 2)"
   ]
  },
  {
   "cell_type": "code",
   "execution_count": 5,
   "id": "2b1debc4",
   "metadata": {},
   "outputs": [],
   "source": [
    "def vbin2vdec(vbin, bits_per_var=longitud, num_vars=dim, vmin=xmin, vmax=xmax):\n",
    "    vdec = []\n",
    "    max_dec = 2**bits_per_var - 1\n",
    "    for i in range(num_vars):\n",
    "        bin_segment = vbin[i*bits_per_var:(i+1)*bits_per_var]\n",
    "        dec = bin2dec(bin_segment)\n",
    "        scaled_val = vmin + ((vmax - vmin) / max_dec) * dec\n",
    "        vdec.append(scaled_val)\n",
    "    return vdec"
   ]
  },
  {
   "cell_type": "code",
   "execution_count": 6,
   "id": "67a55ece",
   "metadata": {},
   "outputs": [],
   "source": [
    "def aptitud(vbin):\n",
    "    vdec = vbin2vdec(vbin)\n",
    "    return np.sum(np.square(vdec)) \n",
    "\n",
    "\n",
    "def evaluar_aptitud(individuos):\n",
    "    return [aptitud(ind) for ind in individuos]"
   ]
  },
  {
   "cell_type": "code",
   "execution_count": 7,
   "id": "6a85c870",
   "metadata": {},
   "outputs": [],
   "source": [
    "def generate_pob(pobsize):\n",
    "    pob = []\n",
    "    for i in range(pobsize):        \n",
    "        vector = np.random.randint(0, 2, size=dim_disc)\n",
    "        pob.append(vector)\n",
    "    return pob"
   ]
  },
  {
   "cell_type": "code",
   "execution_count": 8,
   "id": "2a14c21c",
   "metadata": {},
   "outputs": [],
   "source": [
    "def crossover_uniforme(v1, v2):\n",
    "    mascara = np.random.randint(0, 2, size=len(v1)).astype(bool)\n",
    "    inversa_mascara = np.logical_not(mascara)\n",
    "    h1 = np.where(mascara, v1, v2)\n",
    "    h2 = np.where(mascara, v2, v1)\n",
    "    return h1, h2"
   ]
  },
  {
   "cell_type": "code",
   "execution_count": 9,
   "id": "ca2158a6",
   "metadata": {},
   "outputs": [],
   "source": [
    "def mutacion_uniforme_binaria(vector, prob_mut):\n",
    "    mascara = np.random.random(size=len(vector)) < prob_mut\n",
    "    vector[mascara] = 1 - vector[mascara]    \n",
    "    return vector"
   ]
  },
  {
   "cell_type": "markdown",
   "id": "23f664c6",
   "metadata": {},
   "source": [
    "* Calcula la aptitud total de la población para determinar el tamaño de los \"segmentos\" de la ruleta para cada individuo.\n",
    "* Establece un punto de inicio aleatorio y un intervalo constante (punto de ruleta) para realizar la selección.\n",
    "* Recorre la población, acumulando la aptitud y seleccionando individuos cuando la aptitud acumulada supera los puntos establecidos por el intervalo."
   ]
  },
  {
   "cell_type": "code",
   "execution_count": 10,
   "id": "99c75735",
   "metadata": {},
   "outputs": [],
   "source": [
    "def seleccion_universal_estocastica(individuos, num_padres):\n",
    "    n = len(individuos)\n",
    "    aptitudes = evaluar_aptitud(individuos)\n",
    "    aptitudes_invertidas = [1.0 / max(aptitud, 1e-8) for aptitud in aptitudes]  \n",
    "    total_aptitud = sum(aptitudes_invertidas)\n",
    "    intervalo = total_aptitud / num_padres\n",
    "    inicio = random.uniform(0, intervalo)\n",
    "    puntos = [inicio + i * intervalo for i in range(num_padres)]\n",
    "    \n",
    "    aptitudes_acumulativas = []\n",
    "    suma_acumulada = 0\n",
    "    for aptitud in aptitudes_invertidas:\n",
    "        suma_acumulada += aptitud\n",
    "        aptitudes_acumulativas.append(suma_acumulada)\n",
    "    \n",
    "    seleccionados = []\n",
    "    for punto in puntos:\n",
    "        for i, aptitud_acum in enumerate(aptitudes_acumulativas):\n",
    "            if aptitud_acum >= punto:\n",
    "                seleccionados.append(individuos[i])\n",
    "                break\n",
    "    \n",
    "    return seleccionados"
   ]
  },
  {
   "cell_type": "code",
   "execution_count": 36,
   "id": "7d78ad03",
   "metadata": {},
   "outputs": [],
   "source": [
    "def algoritmo_genetico(pobsize, num_generaciones, prob_mut, num_padres):\n",
    "    # Paso 1: Inicialización\n",
    "    best = []\n",
    "    poblacion = generate_pob(pobsize)\n",
    "    \n",
    "    for generacion in range(num_generaciones):\n",
    "        # Paso 2: Selección\n",
    "        seleccionados = seleccion_universal_estocastica(poblacion, num_padres)\n",
    "        \n",
    "        # Paso 3: Cruzamiento\n",
    "        nueva_poblacion = []\n",
    "        for i in range(0, len(seleccionados), 2):\n",
    "            padre1 = seleccionados[i]\n",
    "            padre2 = seleccionados[i+1] if i+1 < len(seleccionados) else seleccionados[0]\n",
    "            hijo1, hijo2 = crossover_uniforme(padre1, padre2)\n",
    "            nueva_poblacion.extend([hijo1, hijo2])\n",
    "        \n",
    "        # Paso 4: Mutación\n",
    "        poblacion_mutada = [mutacion_uniforme_binaria(ind, prob_mut) for ind in nueva_poblacion]\n",
    "        \n",
    "        # Paso 5: Evaluación y Reemplazo por los Mejores\n",
    "        poblacion.extend(poblacion_mutada)\n",
    "        poblacion.sort(key=lambda ind: aptitud(ind))\n",
    "        poblacion = poblacion[:pobsize]  # Conserva solo los mejores de tamaño pobsize\n",
    "        \n",
    "        # Imprimir el mejor individuo\n",
    "        mejor_individuo = poblacion[0]\n",
    "        #print(f\" Generación {generacion}: Mejor  Aptitud: {aptitud(mejor_individuo)}\")\n",
    "        best.append(aptitud(mejor_individuo))\n",
    "\n",
    "    return poblacion, best\n"
   ]
  },
  {
   "cell_type": "code",
   "execution_count": null,
   "id": "6ae5dc50",
   "metadata": {},
   "outputs": [],
   "source": [
    "x=[]\n",
    "for i in range(30):\n",
    "    x.append(algoritmo_genetico(pobsize, num_generaciones, prob_mut, num_padres))\n",
    "    print(f\"Se terminó de agregar la ejecucción [{i}]\")"
   ]
  },
  {
   "cell_type": "code",
   "execution_count": 17,
   "id": "2816bd8a",
   "metadata": {},
   "outputs": [
    {
     "data": {
      "image/png": "[encoded data removed]",
      "text/plain": [
       "<Figure size 1000x500 with 1 Axes>"
      ]
     },
     "metadata": {},
     "output_type": "display_data"
    }
   ],
   "source": [
    "plt.figure(figsize=(10, 5))  # Crea una figura con un tamaño específico\n",
    "plt.plot(x[1],  linestyle='-', color='b')\n",
    "plt.title('Gráfico de convergencia')  \n",
    "plt.xlabel('generación')  \n",
    "plt.ylabel('mejor aptitud')  \n",
    "plt.grid(True)\n",
    "\n",
    "plt.show()"
   ]
  },
  {
   "cell_type": "code",
   "execution_count": 18,
   "id": "96a14ec8",
   "metadata": {},
   "outputs": [
    {
     "name": "stdout",
     "output_type": "stream",
     "text": [
      "9.313794206364775e-07\n"
     ]
    }
   ],
   "source": [
    "print(aptitud(x[0][0]))"
   ]
  },
  {
   "cell_type": "code",
   "execution_count": 32,
   "id": "4bf89e8c",
   "metadata": {},
   "outputs": [],
   "source": [
    "vec =x[0][0]"
   ]
  },
  {
   "cell_type": "code",
   "execution_count": 33,
   "id": "5cbd63cc",
   "metadata": {},
   "outputs": [
    {
     "name": "stdout",
     "output_type": "stream",
     "text": [
      "[1 0 0 0 0 0 0 0 0 0 0 0 0 0 0 1 0 0 0 0 0 0 0 0 0 0 0 0 0 0 0 1 1 1 1 1 1\n",
      " 1 1 1 1 1 1 1 1 0 1 1 1 1 1 1 1 1 1 1 1 1 1 1 1 0 0 0 0 0 0 0 0 0 0 0 0 0\n",
      " 0 1 0 0 0 0 0 0 0 0 0 0 0 0 0 0 0 1 1 1 1 1 1 1 1 1 1 1 1 1 1 1 0 0 0 0 0\n",
      " 0 0 0 0 0 0 0 0 0 0 1 1 1 1 1 1 1 1 1 1 1 1 1 1 0 1 1 1 1 1 1 1 1 1 1 1 1\n",
      " 1 1]\n"
     ]
    }
   ],
   "source": [
    "print(vec)"
   ]
  },
  {
   "cell_type": "code",
   "execution_count": 34,
   "id": "56e4b7a0",
   "metadata": {},
   "outputs": [
    {
     "data": {
      "text/plain": [
       "[0.00030518509475996325,\n",
       " 0.00030518509475996325,\n",
       " -0.00030518509475996325,\n",
       " -0.00030518509475996325,\n",
       " 0.00030518509475996325,\n",
       " 0.00030518509475996325,\n",
       " -0.00030518509475996325,\n",
       " 0.00030518509475996325,\n",
       " -0.00030518509475996325,\n",
       " -0.00030518509475996325]"
      ]
     },
     "execution_count": 34,
     "metadata": {},
     "output_type": "execute_result"
    }
   ],
   "source": [
    "vbin2vdec(vec)"
   ]
  },
  {
   "cell_type": "code",
   "execution_count": null,
   "id": "f1115844",
   "metadata": {},
   "outputs": [],
   "source": []
  },
  {
   "cell_type": "code",
   "execution_count": null,
   "id": "81e7b0e6",
   "metadata": {},
   "outputs": [],
   "source": []
  }
 ],
 "metadata": {
  "kernelspec": {
   "display_name": "Python 3 (ipykernel)",
   "language": "python",
   "name": "python3"
  },
  "language_info": {
   "codemirror_mode": {
    "name": "ipython",
    "version": 3
   },
   "file_extension": ".py",
   "mimetype": "text/x-python",
   "name": "python",
   "nbconvert_exporter": "python",
   "pygments_lexer": "ipython3",
   "version": "3.10.12"
  }
 },
 "nbformat": 4,
 "nbformat_minor": 5
}
